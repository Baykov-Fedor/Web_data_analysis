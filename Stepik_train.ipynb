{
 "cells": [
  {
   "cell_type": "markdown",
   "metadata": {},
   "source": [
    "### Мы сохранили страницу с википедии про языки программирования и сохранили по адресу https://stepik.org/media/attachments/lesson/209717/1.html Скачайте её с помощью скрипта на Питоне и посчитайте, какой язык упоминается чаще Python или C++ (ответ должен быть одной из этих двух строк)."
   ]
  },
  {
   "cell_type": "code",
   "execution_count": 4,
   "metadata": {},
   "outputs": [
    {
     "name": "stdout",
     "output_type": "stream",
     "text": [
      "C++\n"
     ]
    }
   ],
   "source": [
    "from urllib.request import urlopen\n",
    "html = urlopen('https://stepik.org/media/attachments/lesson/209717/1.html').read().decode('utf-8')\n",
    "html = str(html)\n",
    "python = html.count('Python')\n",
    "C = html.count('C++')\n",
    "if python > C:\n",
    "    print(\"Python\")\n",
    "else: \n",
    "    print(\"C++\")"
   ]
  },
  {
   "cell_type": "code",
   "execution_count": 26,
   "metadata": {},
   "outputs": [],
   "source": [
    "# Файл https://stepik.org/media/attachments/lesson/209719/2.html содержит статью с Википедии про язык Python. \n",
    "# В этой статье есть теги code, которыми выделяются конструкции на языке Python. \n",
    "# Вам нужно найти все строки, содержащиеся между тегами <code> и </code> и \n",
    "# найти те строки, которые встречаются чаще всего и вывести их в алфавитном порядке, разделяя пробелами.\n",
    "\n",
    "\n",
    "from urllib.request import urlopen\n",
    "html = urlopen('https://stepik.org/media/attachments/lesson/209719/2.html').read().decode('utf-8')\n",
    "html = str(html)\n",
    "\n",
    "empty_list = []\n",
    "index = 0\n",
    "summary = 0\n",
    "\n",
    "while (index < len(html)): \n",
    "    start = html.find('<code>', index)\n",
    "    end = html.find('</code>', index)\n",
    "    result = html[start+6:end]\n",
    "    index = end + 1\n",
    "    if start == -1: \n",
    "        break\n",
    "    empty_list.append(result)\n",
    "\n",
    "new_dict = {}\n",
    "for elem in empty_list:\n",
    "    if elem in new_dict:\n",
    "        new_dict[elem] += 1\n",
    "    else:\n",
    "        new_dict[elem] = 1\n",
    "\n",
    "        \n",
    "# for k in sorted(new_dict, key=new_dict.get, reverse=True):\n",
    "#     print (k, new_dict[k])\n"
   ]
  },
  {
   "cell_type": "code",
   "execution_count": 27,
   "metadata": {},
   "outputs": [
    {
     "name": "stdout",
     "output_type": "stream",
     "text": [
      "94596065609609271052308\n"
     ]
    }
   ],
   "source": [
    "from urllib.request import urlopen, urlretrieve\n",
    "from bs4 import BeautifulSoup\n",
    "\n",
    "resp = urlopen('https://stepik.org/media/attachments/lesson/245130/6.html') # скачиваем файл\n",
    "html = resp.read().decode('utf8') # считываем содержимое\n",
    "soup = BeautifulSoup(html, 'html.parser') # делаем суп\n",
    "table = soup.find('table', attrs = {'class' : 'wikitable sortable'})\n",
    "cnt = 0\n",
    "for tr in soup.find_all('tr'):\n",
    "    cnt += 1\n",
    "    for td in tr.find_all(['td', 'th']):\n",
    "        cnt *= 2\n",
    "print(cnt)"
   ]
  },
  {
   "cell_type": "code",
   "execution_count": 39,
   "metadata": {},
   "outputs": [
    {
     "name": "stdout",
     "output_type": "stream",
     "text": [
      "1005425\n"
     ]
    }
   ],
   "source": [
    "# В файле https://stepik.org/media/attachments/lesson/209723/3.html находится одна таблица.\n",
    "# Просуммируйте все числа в ней и введите в качестве ответа одно число - эту сумму. \n",
    "# Для доступа к ячейкам используйте возможности BeautifulSoup.\n",
    "from urllib.request import urlopen, urlretrieve\n",
    "from bs4 import BeautifulSoup\n",
    "\n",
    "html = urlopen('https://stepik.org/media/attachments/lesson/209723/3.html').read().decode('utf-8')\n",
    "html = str(html)\n",
    "soup = BeautifulSoup(html, 'html.parser')\n",
    "sum = 0\n",
    "for values in soup.find_all('td'):\n",
    "    sum += int(values.get_text())\n",
    "    \n",
    "print(sum)"
   ]
  },
  {
   "cell_type": "markdown",
   "metadata": {},
   "source": [
    "В файле https://stepik.org/media/attachments/lesson/209723/4.html находится одна таблица. Просуммируйте все числа в ней и введите в качестве ответа одно число - эту сумму. Теперь мы добавили разных тегов для изменения стиля отображения. Для доступа к ячейкам используйте возможности BeautifulSoup."
   ]
  },
  {
   "cell_type": "code",
   "execution_count": 42,
   "metadata": {},
   "outputs": [
    {
     "name": "stdout",
     "output_type": "stream",
     "text": [
      "29536\n"
     ]
    }
   ],
   "source": [
    "from urllib.request import urlopen, urlretrieve\n",
    "from bs4 import BeautifulSoup\n",
    "\n",
    "html = urlopen('https://stepik.org/media/attachments/lesson/209723/4.html').read().decode('utf-8')\n",
    "html = str(html)\n",
    "soup = BeautifulSoup(html, 'html.parser')\n",
    "sum = 0\n",
    "for values in soup.find_all('td'):\n",
    "    sum += int(values.get_text())\n",
    "    \n",
    "print(sum)"
   ]
  },
  {
   "cell_type": "code",
   "execution_count": 45,
   "metadata": {},
   "outputs": [
    {
     "name": "stdout",
     "output_type": "stream",
     "text": [
      "28734\n"
     ]
    }
   ],
   "source": [
    "# В файле https://stepik.org/media/attachments/lesson/209723/5.html находится одна таблица. \n",
    "# Просуммируйте все числа в ней. Теперь мы не только добавили разных тегов для изменения стиля \n",
    "# отображения, но и сделали невалидный HTML-код (правда, браузеры его отображают, а вот с BeautifulSoup могут быть проблемы). \n",
    "# Невалидный HTML-код - не редкость в интернете, надо учиться работать и с этим.\n",
    "\n",
    "from urllib.request import urlopen, urlretrieve\n",
    "from bs4 import BeautifulSoup\n",
    "\n",
    "html = urlopen('https://stepik.org/media/attachments/lesson/209723/5.html').read().decode('utf-8')\n",
    "html = str(html)\n",
    "soup = BeautifulSoup(html, 'html.parser')\n",
    "sum = 0\n",
    "for values in soup.find_all('td'):\n",
    "    sum += int(values.get_text())\n",
    "    \n",
    "print(sum)"
   ]
  },
  {
   "cell_type": "code",
   "execution_count": 46,
   "metadata": {},
   "outputs": [
    {
     "name": "stdout",
     "output_type": "stream",
     "text": [
      "39650.2\n"
     ]
    }
   ],
   "source": [
    "# Для решения этой задачи необходимо установить библиотеку xlrd, \n",
    "# скачать файл https://stepik.org/media/attachments/lesson/245266/tab.xlsx \n",
    "# и создать в папке с этим файлом скрипт со следующем содержанием:\n",
    "\n",
    "import xlrd\n",
    "\n",
    "wb = xlrd.open_workbook('tab.xlsx')\n",
    "sheet_names = wb.sheet_names()\n",
    "sh = wb.sheet_by_name(sheet_names[0])\n",
    "nmin = sh.row_values(6)[2]\n",
    "for rownum in range(7, 27):\n",
    "    temp = sh.row_values(rownum)\n",
    "    nmin = min(nmin, temp[2])\n",
    "print(nmin)"
   ]
  },
  {
   "cell_type": "markdown",
   "metadata": {},
   "source": [
    "### Вася планирует карьеру и переезд. Для это составил таблицу, в которой для каждого региона записал зарплаты для разных интересные ему профессий. Таблица доступна по ссылке https://stepik.org/media/attachments/lesson/245267/salaries.xlsx. Выведите название региона с самой высокой медианной зарплатой (медианой называется элемент, стоящий в середине массива после его упорядочивания) и, через пробел, название профессии с самой высокой средней зарплатой по всем регионам. "
   ]
  },
  {
   "cell_type": "code",
   "execution_count": 26,
   "metadata": {},
   "outputs": [
    {
     "name": "stdout",
     "output_type": "stream",
     "text": [
      "Куала-Лумпур\n",
      "Программист: 149704.5\n",
      "Менеджер по клинингу: 244784.75\n",
      "Дизайнер онлайн-курсов: 166503.0\n",
      "Собачий парикмахер: 338429.5\n",
      "Учитель для нейросетей: 30924.5\n",
      "Сотрудник конной милиции: 116087.75\n",
      "Актёр на роль человека-бутерброда: 10846.875\n"
     ]
    }
   ],
   "source": [
    "from statistics import median, mean\n",
    "import xlrd\n",
    "\n",
    "wb = xlrd.open_workbook('salaries.xlsx')\n",
    "sheet_names = wb.sheet_names()\n",
    "sh = wb.sheet_by_name(sheet_names[0])\n",
    "vals = [sh.row_values(rownum) for rownum in range(sh.nrows)]\n",
    "salaries = vals[1:]\n",
    "\n",
    "top_salary = 0\n",
    "new_dict = {}\n",
    "for rows in salaries:\n",
    "    new_dict[rows[0]] = median(rows[1:])\n",
    "print(max(new_dict, key=(lambda k: new_dict[k])))\n",
    "\n",
    "vals2 = [sh.col_values(colnum) for colnum in range(1, sh.ncols)]\n",
    "max_salary = 0\n",
    "for cols in vals2:\n",
    "    salary = mean(cols[1:])\n",
    "    print(f'{cols[0]}: {salary}')\n",
    "        \n",
    "\n",
    "    \n"
   ]
  },
  {
   "cell_type": "markdown",
   "metadata": {},
   "source": [
    "Решение задания на pandas в одну строчку"
   ]
  },
  {
   "cell_type": "code",
   "execution_count": 1,
   "metadata": {},
   "outputs": [
    {
     "name": "stdout",
     "output_type": "stream",
     "text": [
      "Куала-Лумпур Собачий парикмахер\n"
     ]
    }
   ],
   "source": [
    "import pandas as pd\n",
    "df = pd.read_excel('salaries.xlsx', index_col=0)\n",
    "print(df.median(axis=1).idxmax(), df.mean(axis=0).idxmax())"
   ]
  },
  {
   "cell_type": "markdown",
   "metadata": {},
   "source": [
    "### Вася хочет минимизировать вес продуктов и для этого брать самые калорийные продукты.  Помогите ему и упорядочите продукты по убыванию калорийности. В случае, если продукты имеют одинаковую калорийность - упорядочите их по названию. В качестве ответа необходимо сдать названия продуктов, по одному в строке."
   ]
  },
  {
   "cell_type": "code",
   "execution_count": 117,
   "metadata": {},
   "outputs": [],
   "source": [
    "import xlrd\n",
    "\n",
    "wb = xlrd.open_workbook('trekking3.xlsx')\n",
    "sheet_names = wb.sheet_names()\n",
    "sh = wb.sheet_by_name(sheet_names[0])\n",
    "vals = [sh.row_values(rownum) for rownum in range(sh.nrows)]\n",
    "vals = vals[1:]"
   ]
  },
  {
   "cell_type": "code",
   "execution_count": 118,
   "metadata": {},
   "outputs": [
    {
     "name": "stdout",
     "output_type": "stream",
     "text": [
      "Шоколад молочный какао\n",
      "Шоколад молочный миндаль\n",
      "Сухофрукты\n",
      "Омлет с копченостями галагала\n",
      "Свинина сублимрованная\n",
      "Шоколад ремесленный\n",
      "Козинак подсолнечный\n",
      "Омлет с грибами галагала\n",
      "Козинак арахисовый\n",
      "Хлебцы льняные \"Тайские\"\n",
      "Колбаса с/к \"Еврейская полусухая\"\n",
      "Говядина сублимрованная\n",
      "Сухарики ржаные с семечками\n",
      "Хлебцы льняные Морские\n",
      "Суп говяжий с картофелем галагала\n",
      "Суп гороховый с копченостями\n",
      "Суп гороховый с копченостями галагала\n",
      "Суп куриный с картофелем галагала\n",
      "Суп-гуляш галагала\n",
      "Суп-харчо \"Острый\"\n",
      "Сыр Маасдам\n",
      "Сыр Чеддер\n",
      "Борщ Московский Галагала\n",
      "Крупа гречневая\n",
      "Рис пропаренный Увелка\n",
      "Свинина Кронидов\n",
      "Сухарики ржаные Finn Crisp\n",
      "Капеллини Макфа\n",
      "Сыр Гауда\n",
      "Кус Кус\n",
      "Каша Быстров\n",
      "Картофель сушеный\n",
      "Говядина Кронидов\n",
      "Хлебцы с чесноком и луком\n",
      "Суп томатный с рисом\n",
      "Балык \"Королевский\"\n",
      "Паутина\n"
     ]
    }
   ],
   "source": [
    "for kkals in sorted(vals, key=lambda x: (-x[1], x[0])):\n",
    "    print(kkals[0])"
   ]
  },
  {
   "cell_type": "markdown",
   "metadata": {},
   "source": [
    "### Вася составил раскладку по продуктам на один день (она на листе \"Раскладка\") с указанием названия продукта и его количества в граммах. Посчитайте 4 числа: суммарную калорийность и граммы белков, жиров и углеводов. Числа округлите до целых вниз и введите через пробел."
   ]
  },
  {
   "cell_type": "code",
   "execution_count": 4,
   "metadata": {},
   "outputs": [
    {
     "data": {
      "text/plain": [
       "{'Шоколад молочный какао': [601.0, 7.0, 43.0, 46.0],\n",
       " 'Шоколад молочный миндаль': [574.0, 7.7, 38.2, 49.5],\n",
       " 'Сухофрукты': [548.0, 12.8, 40.8, 32.4],\n",
       " 'Омлет с копченостями галагала': [544.0, 45.0, 30.0, 4.7],\n",
       " 'Свинина сублимрованная': [543.0, 58.0, 35.0, 0.0],\n",
       " 'Шоколад ремесленный': [540.0, 10.8, 37.8, 37.1],\n",
       " 'Козинак подсолнечный': [530.0, 14.0, 37.0, 36.0],\n",
       " 'Омлет с грибами галагала': [526.0, 43.0, 30.0, 4.7],\n",
       " 'Козинак арахисовый': [520.0, 15.0, 26.0, 55.0],\n",
       " 'Хлебцы льняные \"Тайские\"': [507.0, 19.0, 39.0, 20.0],\n",
       " 'Колбаса с/к \"Еврейская полусухая\"': [481.0, 19.0, 45.0, 0.0],\n",
       " 'Говядина сублимрованная': [474.0, 73.0, 20.0, 0.0],\n",
       " 'Сухарики ржаные с семечками': [451.0, 17.3, 16.0, 59.5],\n",
       " 'Хлебцы льняные Морские': [436.5, 14.1, 29.0, 1.5],\n",
       " 'Суп говяжий с картофелем галагала': [390.0, 12.2, 12.0, 56.4],\n",
       " 'Суп гороховый с копченостями': [390.0, 16.0, 11.0, 52.0],\n",
       " 'Суп гороховый с копченостями галагала': [390.0, 16.0, 11.0, 52.0],\n",
       " 'Суп куриный с картофелем галагала': [390.0, 15.0, 12.0, 56.4],\n",
       " 'Суп-гуляш галагала': [382.0, 15.0, 10.0, 55.0],\n",
       " 'Суп-харчо \"Острый\"': [370.0, 13.5, 10.0, 55.6],\n",
       " 'Сыр Маасдам': [370.0, 25.0, 30.0, 0.0],\n",
       " 'Сыр Чеддер': [369.0, 23.5, 30.5, 0.0],\n",
       " 'Борщ Московский Галагала': [360.0, 15.0, 10.0, 52.0],\n",
       " 'Крупа гречневая': [360.0, 13.0, 2.0, 72.0],\n",
       " 'Рис пропаренный Увелка': [350.0, 8.0, 1.0, 78.0],\n",
       " 'Свинина Кронидов': [349.0, 13.0, 33.0, 0.0],\n",
       " 'Сухарики ржаные Finn Crisp': [347.0, 10.0, 2.6, 61.0],\n",
       " 'Капеллини Макфа': [344.0, 12.5, 1.3, 70.5],\n",
       " 'Сыр Гауда': [338.0, 26.0, 26.0, 0.0],\n",
       " 'Кус Кус': [336.0, 12.7, 0.6, 77.4],\n",
       " 'Каша Быстров': [334.0, 8.6, 4.8, 64.0],\n",
       " 'Картофель сушеный': [333.0, 6.0, 74.0, ''],\n",
       " 'Говядина Кронидов': [213.0, 15.0, 17.0, 0.0],\n",
       " 'Хлебцы с чесноком и луком': [212.0, 7.9, 1.3, 43.3],\n",
       " 'Суп томатный с рисом': [205.5, 4.7, 1.3, 42.2],\n",
       " 'Балык \"Королевский\"': [170.0, 25.0, 8.0, 0.0],\n",
       " 'Паутина': [12.0, 0.0, 0.0, 0.0]}"
      ]
     },
     "execution_count": 4,
     "metadata": {},
     "output_type": "execute_result"
    }
   ],
   "source": [
    "import xlrd\n",
    "\n",
    "wb = xlrd.open_workbook('trekking2.xlsx')\n",
    "sheet_names = wb.sheet_names()\n",
    "sh0 = wb.sheet_by_name(sheet_names[0])\n",
    "vals = [sh0.row_values(rownum) for rownum in range(sh0.nrows)]\n",
    "vals = vals[1:]\n",
    "\n",
    "dict_of_goods = {}\n",
    "for kkals in sorted(vals, key=lambda x: (-x[1], x[0])):\n",
    "    dict_of_goods[kkals[0]] = kkals[1:]  \n",
    "\n",
    "dict_of_goods"
   ]
  },
  {
   "cell_type": "markdown",
   "metadata": {},
   "source": [
    "#### Cчитываем второй лист и делаем из него дикт"
   ]
  },
  {
   "cell_type": "code",
   "execution_count": 107,
   "metadata": {},
   "outputs": [
    {
     "name": "stdout",
     "output_type": "stream",
     "text": [
      "{'Омлет с грибами галагала': 60.0, 'Сыр Маасдам': 80.0, 'Хлебцы льняные Морские': 110.0, 'Суп гороховый с копченостями': 44.0, 'Колбаса с/к \"Еврейская полусухая\"': 160.0, 'Говядина Кронидов': 250.0, 'Крупа гречневая': 160.0, 'Сухарики ржаные с семечками': 120.0, 'Сухофрукты': 150.0, 'Шоколад молочный миндаль': 80.0}\n"
     ]
    }
   ],
   "source": [
    "sh1 = wb.sheet_by_name(sheet_names[1])\n",
    "vals1 = [sh1.row_values(rownum) for rownum in range(sh1.nrows)]\n",
    "vals1 = vals1[1:]\n",
    "\n",
    "vals2 = {}\n",
    "for v in vals1:\n",
    "    if vals2.get(v[0]):\n",
    "        vals2[v[0]] += v[1]\n",
    "    else:\n",
    "        vals2[v[0]] = v[1]\n",
    "\n",
    "print(vals2)"
   ]
  },
  {
   "cell_type": "code",
   "execution_count": 109,
   "metadata": {},
   "outputs": [
    {
     "name": "stdout",
     "output_type": "stream",
     "text": [
      "{'Омлет с грибами галагала': [315.6, 25.8, 18.0, 2.82], 'Сыр Маасдам': [296.0, 20.0, 24.0, 0.0], 'Хлебцы льняные Морские': [480.15, 15.51, 31.9, 1.65], 'Суп гороховый с копченостями': [171.6, 7.04, 4.84, 22.88], 'Колбаса с/к \"Еврейская полусухая\"': [769.6, 30.4, 72.0, 0.0], 'Говядина Кронидов': [532.5, 37.5, 42.5, 0.0], 'Крупа гречневая': [576.0, 20.8, 3.2, 115.2], 'Сухарики ржаные с семечками': [541.2, 20.76, 19.2, 71.4], 'Сухофрукты': [822.0, 19.2, 61.2, 48.6], 'Шоколад молочный миндаль': [459.2, 6.16, 30.56, 39.6]}\n",
      "[4963.849999999999, 203.17, 307.4, 302.15000000000003]\n"
     ]
    }
   ],
   "source": [
    "new_dict = {}\n",
    "\n",
    "for v, k in vals2.items():\n",
    "    if dict_of_goods.get(v):\n",
    "        list1 = dict_of_goods.get(v)\n",
    "        new_dict[v] = [(element * k / 100) for element in list1]\n",
    "print(new_dict)\n",
    "        \n",
    "sum = [0,0,0,0]\n",
    "for k in new_dict.values():\n",
    "    sum[0] += k[0]\n",
    "    sum[1] += k[1]\n",
    "    sum[2] += k[2]\n",
    "    sum[3] += k[3]\n",
    "    \n",
    "print(sum)"
   ]
  },
  {
   "cell_type": "markdown",
   "metadata": {},
   "source": [
    "### Вася составил раскладку по продуктам на весь поход (она на листе \"Раскладка\") с указанием номера дня, названия продукта и его количества в граммах. Для каждого дня посчитайте 4 числа: суммарную калорийность и граммы белков, жиров и углеводов. Числа округлите до целых вниз и введите через пробел. Информация о каждом дне должна выводиться в отдельной строке."
   ]
  },
  {
   "cell_type": "code",
   "execution_count": 23,
   "metadata": {},
   "outputs": [],
   "source": [
    "import pandas as pd\n",
    "\n",
    "calorific = pd.read_excel('trekking3.xlsx', sheet_name=0, index_col=0).fillna(0)\n",
    "ration = pd.read_excel('trekking3.xlsx', sheet_name=1, index_col=[1])"
   ]
  },
  {
   "cell_type": "code",
   "execution_count": 38,
   "metadata": {},
   "outputs": [
    {
     "name": "stdout",
     "output_type": "stream",
     "text": [
      "2405 82 154 172\n",
      "4963 203 307 302\n",
      "5219 178 267 502\n",
      "4873 241 204 537\n",
      "5278 243 314 367\n",
      "4451 190 188 497\n",
      "4806 205 265 386\n",
      "5738 264 195 720\n",
      "1766 66 90 171\n"
     ]
    }
   ],
   "source": [
    "day_ration = pd.concat([ration, calorific], axis=1, join='inner')\n",
    "for i, meal in day_ration.groupby('День'):\n",
    "    print(*meal.apply(lambda x:  x.iloc[2:] * x.iloc[1] / 100, axis=1).sum(axis=0).astype('int'))"
   ]
  },
  {
   "cell_type": "markdown",
   "metadata": {},
   "source": [
    "Главный бухгалтер компании \"Рога и копыта\" случайно удалил ведомость с начисленной зарплатой. К счастью, у него сохранились расчётные листки всех сотрудников. Помогите по этим расчётным листкам восстановить зарплатную ведомость. Архив с расчётными листками доступен по ссылке https://stepik.org/media/attachments/lesson/245299/rogaikopyta.zip (вы можете скачать и распаковать его вручную или самостоятельно научиться делать это с помощью скрипта на Питоне).\n",
    "\n",
    "Ведомость должна содержать 1000 строк, в каждой строке должно быть указано ФИО сотрудника и, через пробел, его зарплата. Сотрудники должны быть упорядочены по алфавиту.\n",
    "\n"
   ]
  },
  {
   "cell_type": "code",
   "execution_count": 1,
   "metadata": {},
   "outputs": [],
   "source": [
    "import pandas as pd\n",
    "\n",
    "vedomost = open('answer.txt', 'w+', encoding='utf-8')\n",
    "\n",
    "all_data = pd.DataFrame()\n",
    "\n",
    "for i in range(1, 1001):\n",
    "    file = f'./rogaikopyta/{i}.xlsx'\n",
    "    df = pd.read_excel(file, sheet_name=0, index_col=0)\n",
    "    df.columns = [1,2,3]\n",
    "    df2 = df.iloc[0]\n",
    "    all_data = all_data.append(df2,ignore_index=True)\n",
    "\n",
    "\n",
    "all_data = all_data.drop(columns=2).sort_values(by=1)\n",
    "all_data.apply(lambda row: vedomost.write(f'{row.iloc[0]} {str(int(row.iloc[1]))}\\n'), axis=1)\n",
    "vedomost.close()"
   ]
  },
  {
   "cell_type": "code",
   "execution_count": 3,
   "metadata": {},
   "outputs": [
    {
     "name": "stdout",
     "output_type": "stream",
     "text": [
      "                                       1         3\n",
      "36   Александров Александр Александрович   19279.0\n",
      "363     Александров Александр Алексеевич  111877.0\n",
      "354     Александров Александр Васильевич  121425.0\n",
      "375     Александров Александр Дмитриевич   47073.0\n",
      "936       Александров Александр Иванович   98888.0\n",
      "..                                   ...       ...\n",
      "641                Сидоров Сидор Львович   93196.0\n",
      "841             Сидоров Сидор Михайлович  153252.0\n",
      "141               Сидоров Сидор Петрович   46026.0\n",
      "400              Сидоров Сидор Сергеевич  108788.0\n",
      "727              Сидоров Сидор Сидорович  130081.0\n",
      "\n",
      "[1000 rows x 2 columns]\n"
     ]
    }
   ],
   "source": [
    "print(all_data)"
   ]
  }
 ],
 "metadata": {
  "kernelspec": {
   "display_name": "Python 3",
   "language": "python",
   "name": "python3"
  },
  "language_info": {
   "codemirror_mode": {
    "name": "ipython",
    "version": 3
   },
   "file_extension": ".py",
   "mimetype": "text/x-python",
   "name": "python",
   "nbconvert_exporter": "python",
   "pygments_lexer": "ipython3",
   "version": "3.7.4"
  }
 },
 "nbformat": 4,
 "nbformat_minor": 2
}
