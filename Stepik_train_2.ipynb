{
 "cells": [
  {
   "cell_type": "code",
   "execution_count": 2,
   "metadata": {},
   "outputs": [],
   "source": [
    "import requests\n",
    "import xmltodict\n",
    "import lxml\n",
    "from bs4 import BeautifulSoup\n",
    "from urllib.request import urlopen"
   ]
  },
  {
   "cell_type": "markdown",
   "metadata": {},
   "source": [
    "В OpenStreetMap XML встречаются теги node, которые соответствуют некоторым точкам на карте. Ноды могут не только обозначать какой-то точечный объект, но и входить в состав way (некоторой линии, возможно замкнутой) и не иметь собственных тегов. Для доступного по ссылке https://stepik.org/media/attachments/lesson/245678/map1.osm фрагмента карты посчитайте, сколько node имеет хотя бы один вложенный тэг tag, а сколько - не имеют. В качестве ответа введите два числа, разделённых пробелом."
   ]
  },
  {
   "cell_type": "code",
   "execution_count": 5,
   "metadata": {},
   "outputs": [
    {
     "name": "stdout",
     "output_type": "stream",
     "text": [
      "6166\n",
      "316\n"
     ]
    }
   ],
   "source": [
    "url = 'https://stepik.org/media/attachments/lesson/245678/map1.osm'\n",
    "xml = requests.get(url).content\n",
    "\n",
    "parsedxml = xmltodict.parse(xml)\n",
    "node_counter = 0\n",
    "tag_counter = 0\n",
    "\n",
    "for node in parsedxml['osm']['node']:\n",
    "    if 'tag' in node:\n",
    "        tag_counter += 1\n",
    "    else:\n",
    "        node_counter += 1\n",
    "        \n",
    "print(node_counter)\n",
    "print(tag_counter)\n",
    "    \n",
    "        "
   ]
  },
  {
   "cell_type": "markdown",
   "metadata": {},
   "source": [
    "Вася решил открыть АЗС (заправку). Чтобы оценить уровень конкуренции он хочет изучить количество заправок в интересующем его районе. Вася скачал интересующий его кусок карты OSM https://stepik.org/media/attachments/lesson/245681/map2.osm и хочет посчитать, сколько на нём отмечено точечных объектов (node), являющихся заправкой. В качестве ответа вам необходимо вывести одно число - количество АЗС.\n",
    "\n",
    "\"Как обозначается заправка в OpenStreetMap\" - пример хорошего запроса чтобы узнать, как обозначается заправка в OpenStreetMap.\n"
   ]
  },
  {
   "cell_type": "code",
   "execution_count": null,
   "metadata": {},
   "outputs": [],
   "source": [
    "url = 'https://stepik.org/media/attachments/lesson/245681/map2.osm'\n",
    "xml = requests.get(url).content\n"
   ]
  },
  {
   "cell_type": "code",
   "execution_count": 18,
   "metadata": {},
   "outputs": [
    {
     "name": "stdout",
     "output_type": "stream",
     "text": [
      "15\n"
     ]
    }
   ],
   "source": [
    "parsedxml = xmltodict.parse(xml)\n",
    "fuel_station_counter = 0\n",
    "\n",
    "for node in parsedxml['osm']['node']:\n",
    "    if 'tag' in node:\n",
    "        tags = node['tag']\n",
    "        if isinstance(tags, list):\n",
    "            for tag in tags:\n",
    "                if '@k' in tag and tag['@k'] == 'amenity' and tag['@v'] == 'fuel':\n",
    "                    fuel_station_counter += 1\n",
    "        elif isinstance(tags,dict):\n",
    "            if (tags['@v'])=='fuel':\n",
    "                fuel_station_counter += 1\n",
    "print(fuel_station_counter)"
   ]
  },
  {
   "cell_type": "code",
   "execution_count": 19,
   "metadata": {},
   "outputs": [
    {
     "name": "stdout",
     "output_type": "stream",
     "text": [
      "27\n"
     ]
    }
   ],
   "source": [
    "for node in parsedxml['osm']['way']:\n",
    "    if 'tag' in node:\n",
    "        tags = node['tag']\n",
    "        if isinstance(tags, list):\n",
    "            for tag in tags:\n",
    "                if '@k' in tag and tag['@k'] == 'amenity' and tag['@v'] == 'fuel':\n",
    "                    fuel_station_counter += 1\n",
    "        elif isinstance(tags,dict):\n",
    "            if (tags['@v'])=='fuel':\n",
    "                fuel_station_counter += 1\n",
    "\n",
    "print(fuel_station_counter)"
   ]
  },
  {
   "cell_type": "markdown",
   "metadata": {},
   "source": [
    "OR"
   ]
  },
  {
   "cell_type": "code",
   "execution_count": 20,
   "metadata": {},
   "outputs": [
    {
     "name": "stdout",
     "output_type": "stream",
     "text": [
      "15\n"
     ]
    }
   ],
   "source": [
    "xml = urlopen(\"https://stepik.org/media/attachments/lesson/245681/map2.osm\").read().decode('utf-8')\n",
    "soup = BeautifulSoup(xml, 'lxml').find_all('node')\n",
    "result = BeautifulSoup(str(soup), 'lxml').find_all('tag', k='amenity', v='fuel')\n",
    "print(len(result))"
   ]
  },
  {
   "cell_type": "markdown",
   "metadata": {},
   "source": [
    "Экспортируйте с OSM часть карты, на которой находитесь вы (или любую другую интересную вам). \n",
    "Посчитайте на карте объекты какого-либо типа."
   ]
  },
  {
   "cell_type": "code",
   "execution_count": 26,
   "metadata": {},
   "outputs": [
    {
     "name": "stdout",
     "output_type": "stream",
     "text": [
      "4\n"
     ]
    }
   ],
   "source": [
    "# Скачаем карту района по request url'у\n",
    "# И найдем количество школ в этом районе\n",
    "\n",
    "xml = urlopen(\"https://www.openstreetmap.org/api/0.6/map?bbox=30.1955%2C60.003%2C30.2464%2C60.0081\").read().decode('utf-8')\n",
    "soup1 = BeautifulSoup(xml, 'lxml').find_all('node')\n",
    "schools_in_nodes = BeautifulSoup(str(soup1), 'lxml').find_all('tag', k='amenity', v='school')\n",
    "\n",
    "soup2 = BeautifulSoup(xml, 'lxml').find_all('way')\n",
    "schools_in_ways = BeautifulSoup(str(soup2), 'lxml').find_all('tag', k='amenity', v='school')\n",
    "\n",
    "result = schools_in_nodes + schools_in_ways\n",
    "print(len(result))\n"
   ]
  },
  {
   "cell_type": "code",
   "execution_count": 3,
   "metadata": {},
   "outputs": [],
   "source": [
    "xml = urlopen(\"https://www.openstreetmap.org/api/0.6/map?bbox=30.1955%2C60.003%2C30.2464%2C60.0081\").read().decode('utf-8')\n",
    "\n",
    "parsedxml = xmltodict.parse(xml)"
   ]
  },
  {
   "cell_type": "code",
   "execution_count": 6,
   "metadata": {},
   "outputs": [
    {
     "name": "stdout",
     "output_type": "stream",
     "text": [
      "1\n",
      "['Музыкальная школа Open Music']\n"
     ]
    }
   ],
   "source": [
    "names = []\n",
    "schools = 0\n",
    "for node in parsedxml['osm']['node']:\n",
    "    flag = 0\n",
    "    if 'tag' in node:\n",
    "        tags = node['tag']\n",
    "        if isinstance(tags, list):\n",
    "            for tag in tags:\n",
    "                if '@k' in tag and tag['@k'] == 'amenity' and tag['@v'] == 'school':\n",
    "                    flag = 1\n",
    "                    schools += 1\n",
    "                if '@k' in tag and tag['@k'] == 'name':\n",
    "                    name = tag['@v']\n",
    "            if flag:\n",
    "                names.append(name)\n",
    "\n",
    "print(schools)\n",
    "print(names)"
   ]
  },
  {
   "cell_type": "code",
   "execution_count": 7,
   "metadata": {},
   "outputs": [
    {
     "name": "stdout",
     "output_type": "stream",
     "text": [
      "4\n",
      "['Музыкальная школа Open Music', 'Школа №320', 'Школа №655', 'Школа №655 (второй корпус)']\n"
     ]
    }
   ],
   "source": [
    "for node in parsedxml['osm']['way']:\n",
    "    flag = 0\n",
    "    if 'tag' in node:\n",
    "        tags = node['tag']\n",
    "        if isinstance(tags, list):\n",
    "            for tag in tags:\n",
    "                if '@k' in tag and tag['@k'] == 'amenity' and tag['@v'] == 'school':\n",
    "                    flag = 1\n",
    "                    schools += 1\n",
    "                if '@k' in tag and tag['@k'] == 'name':\n",
    "                    name = tag['@v']\n",
    "            if flag:\n",
    "                names.append(name)\n",
    "\n",
    "print(schools)\n",
    "print(names)"
   ]
  }
 ],
 "metadata": {
  "kernelspec": {
   "display_name": "Python 3",
   "language": "python",
   "name": "python3"
  },
  "language_info": {
   "codemirror_mode": {
    "name": "ipython",
    "version": 3
   },
   "file_extension": ".py",
   "mimetype": "text/x-python",
   "name": "python",
   "nbconvert_exporter": "python",
   "pygments_lexer": "ipython3",
   "version": "3.7.4"
  }
 },
 "nbformat": 4,
 "nbformat_minor": 2
}
