{
  "nbformat": 4,
  "nbformat_minor": 0,
  "metadata": {
    "colab": {
      "name": "Web_lab_2.ipynb",
      "provenance": [],
      "collapsed_sections": []
    },
    "kernelspec": {
      "name": "python3",
      "display_name": "Python 3"
    }
  },
  "cells": [
    {
      "cell_type": "markdown",
      "metadata": {
        "id": "ontieuHDvynY",
        "colab_type": "text"
      },
      "source": [
        "Задания 2.3 со Степика"
      ]
    },
    {
      "cell_type": "markdown",
      "metadata": {
        "id": "tXbuC0x3ydo6",
        "colab_type": "text"
      },
      "source": [
        "1 задание\n"
      ]
    },
    {
      "cell_type": "code",
      "metadata": {
        "id": "O_AtUTN7vxmc",
        "colab_type": "code",
        "outputId": "21e9dfec-5fd0-47ec-92d8-610bd4a37b78",
        "colab": {
          "base_uri": "https://localhost:8080/",
          "height": 638
        }
      },
      "source": [
        "import pandas as pd\n",
        "\n",
        "df1 = pd.read_excel('https://stepik.org/media/attachments/lesson/245290/trekking1.xlsx')\n",
        "\n",
        "df2 = df1.sort_values(by=['ККал на 100', 'Unnamed: 0'], ascending=[False, True])\n",
        "print(df2['Unnamed: 0'].to_string(index=False))"
      ],
      "execution_count": 0,
      "outputs": [
        {
          "output_type": "stream",
          "text": [
            "                Шоколад молочный какао\n",
            "              Шоколад молочный миндаль\n",
            "                            Сухофрукты\n",
            "         Омлет с копченостями галагала\n",
            "                Свинина сублимрованная\n",
            "                   Шоколад ремесленный\n",
            "                  Козинак подсолнечный\n",
            "              Омлет с грибами галагала\n",
            "                    Козинак арахисовый\n",
            "              Хлебцы льняные \"Тайские\"\n",
            "     Колбаса с/к \"Еврейская полусухая\"\n",
            "               Говядина сублимрованная\n",
            "           Сухарики ржаные с семечками\n",
            "                Хлебцы льняные Морские\n",
            "     Суп говяжий с картофелем галагала\n",
            "          Суп гороховый с копченостями\n",
            " Суп гороховый с копченостями галагала\n",
            "     Суп куриный с картофелем галагала\n",
            "                    Суп-гуляш галагала\n",
            "                    Суп-харчо \"Острый\"\n",
            "                           Сыр Маасдам\n",
            "                            Сыр Чеддер\n",
            "              Борщ Московский Галагала\n",
            "                       Крупа гречневая\n",
            "                Рис пропаренный Увелка\n",
            "                      Свинина Кронидов\n",
            "            Сухарики ржаные Finn Crisp\n",
            "                       Капеллини Макфа\n",
            "                             Сыр Гауда\n",
            "                               Кус Кус\n",
            "                          Каша Быстров\n",
            "                     Картофель сушеный\n",
            "                     Говядина Кронидов\n",
            "             Хлебцы с чесноком и луком\n",
            "                  Суп томатный с рисом\n",
            "                   Балык \"Королевский\"\n",
            "                               Паутина\n"
          ],
          "name": "stdout"
        }
      ]
    },
    {
      "cell_type": "markdown",
      "metadata": {
        "id": "sBXZQO1GygKj",
        "colab_type": "text"
      },
      "source": [
        "2 задание"
      ]
    },
    {
      "cell_type": "code",
      "metadata": {
        "id": "kyyJQp7GxR3G",
        "colab_type": "code",
        "outputId": "65991919-5730-4cbd-9e2e-d49acbea4a5b",
        "colab": {
          "base_uri": "https://localhost:8080/",
          "height": 34
        }
      },
      "source": [
        "url = 'https://stepik.org/media/attachments/lesson/245290/trekking2.xlsx'\n",
        "calorific = pd.read_excel(url, sheet_name=0, index_col=0).fillna(0)\n",
        "weight = pd.read_excel(url,\tsheet_name=1, index_col=0)\t\n",
        "ration = pd.concat([weight, calorific], axis=1, join='inner')\n",
        "print(*ration.apply(lambda x: x.iloc[1:] * x.iloc[0] / 100, axis=1).sum(axis=0).astype('int'))"
      ],
      "execution_count": 0,
      "outputs": [
        {
          "output_type": "stream",
          "text": [
            "4963 203 307 302\n"
          ],
          "name": "stdout"
        }
      ]
    },
    {
      "cell_type": "markdown",
      "metadata": {
        "id": "Y8oHEXCMyiP6",
        "colab_type": "text"
      },
      "source": [
        "3 задание"
      ]
    },
    {
      "cell_type": "code",
      "metadata": {
        "id": "a6w_SbA2yY0a",
        "colab_type": "code",
        "outputId": "23e44528-b44a-4aae-bb88-98dc8eab25b7",
        "colab": {
          "base_uri": "https://localhost:8080/",
          "height": 168
        }
      },
      "source": [
        "url = 'https://stepik.org/media/attachments/lesson/245290/trekking3.xlsx'\n",
        "calorific = pd.read_excel(url, sheet_name=0, index_col=0).fillna(0)\n",
        "ration = pd.read_excel(url, sheet_name=1, index_col=[1])\n",
        "day_ration = pd.concat([ration, calorific], axis=1, join='inner')\n",
        "for i, meal in day_ration.groupby('День'):\n",
        "    print(*meal.apply(lambda x:  x.iloc[2:] * x.iloc[1] / 100, axis=1).sum(axis=0).astype('int'))"
      ],
      "execution_count": 0,
      "outputs": [
        {
          "output_type": "stream",
          "text": [
            "2405 82 154 172\n",
            "4963 203 307 302\n",
            "5219 178 267 502\n",
            "4873 241 204 537\n",
            "5278 243 314 367\n",
            "4451 190 188 497\n",
            "4806 205 265 386\n",
            "5738 264 195 720\n",
            "1766 66 90 171\n"
          ],
          "name": "stdout"
        }
      ]
    },
    {
      "cell_type": "markdown",
      "metadata": {
        "id": "-iMU7ZM-S6bD",
        "colab_type": "text"
      },
      "source": [
        "4 задание"
      ]
    },
    {
      "cell_type": "code",
      "metadata": {
        "id": "ULL7fndd6Oz6",
        "colab_type": "code",
        "colab": {}
      },
      "source": [
        "import pandas as pd\n",
        "\n",
        "vedomost = open('answer.txt', 'w+', encoding='utf-8')\n",
        "\n",
        "all_data = pd.DataFrame()\n",
        "\n",
        "for i in range(1, 1001):\n",
        "    file = f'./rogaikopyta/{i}.xlsx'\n",
        "    df = pd.read_excel(file, sheet_name=0, index_col=0)\n",
        "    df.columns = [1,2,3]\n",
        "    df2 = df.iloc[0]\n",
        "    all_data = all_data.append(df2,ignore_index=True)\n",
        "\n",
        "\n",
        "all_data = all_data.drop(columns=2).sort_values(by=1)\n",
        "all_data.apply(lambda row: vedomost.write(f'{row.iloc[0]} {str(int(row.iloc[1]))}\\n'), axis=1)\n",
        "vedomost.close()"
      ],
      "execution_count": 0,
      "outputs": []
    },
    {
      "cell_type": "code",
      "metadata": {
        "id": "x9HR75hi181k",
        "colab_type": "code",
        "colab": {}
      },
      "source": [
        "# Таблица получившаяся в all_data и в дальнейшем записанная в answer.txt\n",
        "\n",
        "                                       1         3\n",
        "36   Александров Александр Александрович   19279.0\n",
        "363     Александров Александр Алексеевич  111877.0\n",
        "354     Александров Александр Васильевич  121425.0\n",
        "375     Александров Александр Дмитриевич   47073.0\n",
        "936       Александров Александр Иванович   98888.0\n",
        "..                                   ...       ...\n",
        "641                Сидоров Сидор Львович   93196.0\n",
        "841             Сидоров Сидор Михайлович  153252.0\n",
        "141               Сидоров Сидор Петрович   46026.0\n",
        "400              Сидоров Сидор Сергеевич  108788.0\n",
        "727              Сидоров Сидор Сидорович  130081.0"
      ],
      "execution_count": 0,
      "outputs": []
    }
  ]
}