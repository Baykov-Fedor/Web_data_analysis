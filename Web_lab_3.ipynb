{
 "cells": [
  {
   "cell_type": "code",
   "execution_count": 2,
   "metadata": {},
   "outputs": [],
   "source": [
    "import requests\n",
    "import xmltodict\n",
    "import lxml\n",
    "from bs4 import BeautifulSoup\n",
    "from urllib.request import urlopen\n",
    "import re "
   ]
  },
  {
   "cell_type": "markdown",
   "metadata": {},
   "source": [
    "Экспортируйте с OSM часть карты, на которой находитесь вы (или любую другую интересную вам). Посчитайте на карте объекты какого-либо типа."
   ]
  },
  {
   "cell_type": "code",
   "execution_count": null,
   "metadata": {},
   "outputs": [],
   "source": [
    "# Скачаем карту района по request url'у\n",
    "# И найдем количество школ в этом районе\n",
    "\n",
    "xml = urlopen(\"https://www.openstreetmap.org/api/0.6/map?bbox=30.1955%2C60.003%2C30.2464%2C60.0081\").read().decode('utf-8')\n",
    "soup1 = BeautifulSoup(xml, 'lxml').find_all('node')\n",
    "schools_in_nodes = BeautifulSoup(str(soup1), 'lxml').find_all('tag', k='amenity', v='school')\n",
    "\n",
    "soup2 = BeautifulSoup(xml, 'lxml').find_all('way')\n",
    "schools_in_ways = BeautifulSoup(str(soup2), 'lxml').find_all('tag', k='amenity', v='school')\n",
    "\n",
    "result = schools_in_nodes + schools_in_ways\n",
    "print(len(result))\n"
   ]
  },
  {
   "cell_type": "code",
   "execution_count": null,
   "metadata": {},
   "outputs": [],
   "source": [
    "xml = urlopen(\"https://www.openstreetmap.org/api/0.6/map?bbox=30.1955%2C60.003%2C30.2464%2C60.0081\").read().decode('utf-8')\n",
    "\n",
    "parsedxml = xmltodict.parse(xml)"
   ]
  },
  {
   "cell_type": "code",
   "execution_count": null,
   "metadata": {},
   "outputs": [],
   "source": [
    "names = []\n",
    "schools = 0\n",
    "for node in parsedxml['osm']['node']:\n",
    "    flag = 0\n",
    "    if 'tag' in node:\n",
    "        tags = node['tag']\n",
    "        if isinstance(tags, list):\n",
    "            for tag in tags:\n",
    "                if '@k' in tag and tag['@k'] == 'amenity' and tag['@v'] == 'school':\n",
    "                    flag = 1\n",
    "                    schools += 1\n",
    "                if '@k' in tag and tag['@k'] == 'name':\n",
    "                    name = tag['@v']\n",
    "            if flag:\n",
    "                names.append(name)\n",
    "\n",
    "print(schools)\n",
    "print(names)"
   ]
  },
  {
   "cell_type": "code",
   "execution_count": null,
   "metadata": {},
   "outputs": [],
   "source": [
    "for node in parsedxml['osm']['way']:\n",
    "    flag = 0\n",
    "    if 'tag' in node:\n",
    "        tags = node['tag']\n",
    "        if isinstance(tags, list):\n",
    "            for tag in tags:\n",
    "                if '@k' in tag and tag['@k'] == 'amenity' and tag['@v'] == 'school':\n",
    "                    flag = 1\n",
    "                    schools += 1\n",
    "                if '@k' in tag and tag['@k'] == 'name':\n",
    "                    name = tag['@v']\n",
    "            if flag:\n",
    "                names.append(name)\n",
    "\n",
    "print(schools)\n",
    "print(names)"
   ]
  },
  {
   "cell_type": "markdown",
   "metadata": {},
   "source": [
    "Рассмотрим два HTML-документа A и B.\n",
    "Из A можно перейти в B за один переход, если в A есть ссылка на B, т. е. внутри A есть тег 'a href=\"B\">', возможно с дополнительными параметрами внутри тега.\n",
    "Из A можно перейти в B за два перехода если существует такой документ C, что из A в C можно перейти за один переход и из C в B можно перейти за один переход.\n",
    "\n",
    "Вашей программе на вход подаются две строки, содержащие url двух документов A и B.\n",
    "Выведите Yes, если из A в B можно перейти за два перехода, иначе выведите No."
   ]
  },
  {
   "cell_type": "code",
   "execution_count": null,
   "metadata": {},
   "outputs": [],
   "source": [
    "https://yandex.ru/\n",
    "https://yandex.ru/pogoda/saint-petersburg"
   ]
  },
  {
   "cell_type": "code",
   "execution_count": 3,
   "metadata": {
    "scrolled": true
   },
   "outputs": [
    {
     "name": "stdout",
     "output_type": "stream",
     "text": [
      "Введите ссылку первого документа: https://yandex.ru/\n",
      "Введите ссылку второго документа: https://yandex.ru/pogoda/saint-petersburg\n",
      "https://passport.yandex.ru/auth?origin=home_desktop_ru&retpath=https%3A%2F%2Fmail.yandex.ru%2F&backpath=https%3A%2F%2Fyandex.ru\n",
      "https://passport.yandex.ru/registration/mail?from=mail&origin=home_desktop_ru&retpath=https%3A%2F%2Fmail.yandex.ru%2F\n",
      "https://passport.yandex.ru/auth?origin=home_desktop_ru&retpath=https%3A%2F%2Fmail.yandex.ru%2F&backpath=https%3A%2F%2Fyandex.ru\n",
      "https://yabs.yandex.ru/count/WLiejI_zO0m1ZGe0L11S8bgMo8HI-GK0308GWX0neg2kNW00000useqKG2H80c3M673cr9V8j--fE9W1oBVlgJYu0URKbmJO0SoUhXtm0hx2Xli3i0C4w0IvSFW4fObkY0MbYMwG1QM9RWIe1WJ91gBmGVN9kKqZqGQYX7TiohbD8rHtaG3vY8RK8B07W82OBBW7_ZE0W0e1mGfKWNhjUHN7Fycg2n2GPLTiTv4003ETc1gyfEWBfObky0i5w0mRu0s2WABXXwgVkUwcsU0F0O0Gfe_N3WWB0k0JfObke1IbYMwe5AM9RkWK2DWLmOhsxAEFlFnZy90MtG6O5j2Zt_C5e1RGZvtr1SaMWHUO5nce5maO042mcI5CbytJpWVW7gKWuP2aaR3gtmXP4R6avBa86h71Yiy6BY0sgT90h2Tt7GYmfWBtCctN5y0L21JeOUGqvpEm7TXrqi_E4m00~1\n",
      "https://local.yandex.ru/saint-petersburg/top?event_id=3179145&from=home&gid=2&_openstat=rtx_desktop%3Blargecontrol%3Bmerge_learn_all_with_plook_prod40&utm_source=main&utm_medium=tips&utm_campaign=tips_1&utm_content=mini_post\n",
      "https://yandex.ru/news/quotes/1006.html\n",
      "https://yandex.ru/tune/geo/?retpath=https%3A%2F%2Fyandex.ru%2F%3Fdomredir%3D1&nosync=1\n",
      "https://yandex.ru/legal/confidential/\n",
      "https://yabs.yandex.ru/count/WNiejI_zO2u1ZGi0z15S8bgMFAao90K0BW8GWX0neg2kNW00000useqKG2980c3K6734qvVyiU-fE9W1_B7lgJYu0SJJbmZO0RoUhXtm0hx2Xli3a0Fmmu1lyrNu1AM9ReW5fObka0MbYMu4g0O4oGQYy47roRbD8z46eeHtRCgvJIDKTv40-OY6r22m1u20c2ou1_mpq0SIukdBWmVu2DhforI1Ukrv5SS_oQeB491bLsntaG00CvsO6hoaw0kbYMxm2mNe31lW3OA0ek67gf-vxgRPu0y1W12UZzSE28WI0P0I0TWIXu0Ou1A7W1Zm4Wi2u1EbYMwW5AM9RgWKfObkw1G8s1N1YlRieu-y_6Fma1RT0PWMqAFVymMW5j2FdVK5oHQ15vWN6QWN2Ha0GB2U8KoNpHVF1-3Uje94QF-DK8oJrwcUom4IEmpvRE0oOfFg3iJgQTS1Z3LbJ62uhH8OF6mn6J6u5uO2FOoT0Vg317NgWp11M2Vzx3m1~1\n",
      "https://yandex.ru/tune/search/?retpath=https%3A%2F%2Fyandex.ru%2F%3Fdomredir%3D1&nosync=1\n",
      "https://yandex.ru/tune/geo/?retpath=https%3A%2F%2Fyandex.ru%2F%3Fdomredir%3D1&nosync=1\n",
      "https://yandex.ru/tune/search/?retpath=https%3A%2F%2Fyandex.ru%2F%3Fdomredir%3D1&nosync=1\n",
      "https://yandex.ru/news?mlid=1588501896.glob_225&msid=1588502690.54234.85435.502017&utm_medium=topnews_news&utm_source=morda_desktop\n",
      "https://yandex.ru/news/region/saint_petersburg?mlid=1588501896.geo_2&msid=1588502690.54234.85435.502017&utm_medium=topnews_region&utm_source=morda_desktop\n",
      "https://yandex.ru/news/rubric/koronavirus?from=main\n",
      "https://yandex.ru/time\n",
      "https://yandex.ru/news/story/Uchenye_izmenili_datu_okonchaniya_ehpidemii_koronavirusa_v_Rossii--c1dd6d5966aa4361ca4c8dbfdb54899a?from=main_portal&lang=ru&lr=2&mlid=1588501896.glob_225.c1dd6d59&msid=1588502690.54234.85435.502017&persistent_id=96249844&stid=9bsJJhOuS5Po0tnQeM5A&t=1588501896&utm_medium=topnews_news&utm_source=morda_desktop&wan=1\n",
      "https://yandex.ru/news/story/Press-sekretar_Mishustina_soobshhil_o_ego_normalnom_samochuvstvii--32fd0b5444b767a1ca9a3d4c2022a86b?from=main_portal&lang=ru&lr=2&mlid=1588501896.glob_225.32fd0b54&msid=1588502690.54234.85435.502017&persistent_id=96321164&stid=SjyGduHCwbRKzYc-NwHh&t=1588501896&utm_medium=topnews_news&utm_source=morda_desktop&wan=1\n",
      "https://yandex.ru/news/story/Nazvana_novaya_prichina_vysokoj_smertnosti_ot_koronavirusa--6df45b71fe8c6e1154af29894691ad88?from=main_portal&lang=ru&lr=2&mlid=1588501896.glob_225.6df45b71&msid=1588502690.54234.85435.502017&persistent_id=96168703&stid=zpROUBtZmPqovHLO4xdX&t=1588501896&utm_medium=topnews_news&utm_source=morda_desktop&wan=1\n",
      "https://yandex.ru/news/story/Lukashenko_zayavil_o_nevozmozhnosti_otmeny_parada_Pobedy_v_Belorussii--2972776b7e650277e45a40e06ef4b769?from=main_portal&lang=ru&lr=2&mlid=1588501896.glob_225.2972776b&msid=1588502690.54234.85435.502017&persistent_id=96344466&stid=h2yuooXkPPpIUkyoG6Ls&t=1588501896&utm_medium=topnews_news&utm_source=morda_desktop&wan=1\n",
      "https://yandex.ru/news/story/V_Latvii_krupnyj_dron_uletel_v_neizvestnom_napravlenii--7e86d3eba5c4b5fd14845e1b298bdcc1?from=main_portal&lang=ru&lr=2&mlid=1588501896.glob_225.7e86d3eb&msid=1588502690.54234.85435.502017&persistent_id=96297483&stid=H5MQOiKH19nkEMD2-nvW&t=1588501896&utm_medium=topnews_news&utm_source=morda_desktop&wan=1\n",
      "https://yandex.ru/news/story/MID_Ukrainy_zayavil_o_nezhelanii_RF_vyyasnyat_prichiny_tragedii_v_Odesse--6e6b9e6e8eb9b74664a1593c623bc451?from=main_portal&lang=ru&lr=2&mlid=1588501896.glob_225.6e6b9e6e&msid=1588502690.54234.85435.502017&persistent_id=96295075&stid=gKdJ7kiKV1X3p1iTulnd&t=1588501896&utm_medium=topnews_news&utm_source=morda_desktop\n",
      "https://yandex.ru/news/story/V_Minzdrave_zayavili_chto_ogranicheniya_iz-za_COVID-19_dolzhny_byt_zhestche--4243f0ccd7a02891fb127cbd37e99e37?from=main_portal&lang=ru&lr=2&mlid=1588501896.glob_225.4243f0cc&msid=1588502690.54234.85435.502017&persistent_id=96344545&stid=Jn8m7jOb-ZKOh-wWcRx9&t=1588501896&utm_medium=topnews_news&utm_source=morda_desktop\n",
      "https://yandex.ru/news/story/V_Rossii_za_sutki_zaregistrirovali_bolee_10_tys._zarazhennykh_koronavirusom--5ef566ab648698e4924a9b0e05574160?from=main_portal&lang=ru&lr=2&mlid=1588501896.glob_225.5ef566ab&msid=1588502690.54234.85435.502017&persistent_id=96344193&stid=9hGlfXPirXmIQoTdH0Kv&t=1588501896&utm_medium=topnews_news&utm_source=morda_desktop\n",
      "https://yandex.ru/news/story/Procenko_ocenil_risk_italyanskogo_scenariya_pandemii_v_Rossii--82efd453f756fa6ef4cba422688dab1c?from=main_portal&lang=ru&lr=2&mlid=1588501896.glob_225.82efd453&msid=1588502690.54234.85435.502017&persistent_id=96326749&stid=AiIiwdB6nBm5lmUbMmDX&t=1588501896&utm_medium=topnews_news&utm_source=morda_desktop\n",
      "https://yandex.ru/news/story/Razvedki_pyati_stran_obvinili_Kitaj_v_unichtozhenii_dannykh_o_koronaviruse--6555bd76a6d446ff43eb3a5acd87c083?from=main_portal&lang=ru&lr=2&mlid=1588501896.glob_225.6555bd76&msid=1588502690.54234.85435.502017&persistent_id=96258589&stid=WwkCf0OXBK5ZrFgRjs1x&t=1588501896&utm_medium=topnews_news&utm_source=morda_desktop\n",
      "https://yandex.ru/news/?lang=ru&msid=1588502690.54234.85435.502017&mlid=1588501896\n",
      "https://yandex.ru/news/quotes/2002.html\n",
      "https://yandex.ru/news/quotes/2000.html\n",
      "https://yandex.ru/news/quotes/1006.html\n",
      "https://yabs.yandex.ru/count/WOqejI_zO3G17Gm0j19S8bgMTO7rAGK0D08GWX0neg2kNW00000useqKG0H846344d3AhPxZdAamc06UuvofCBW1ogq2s07eteGKy0A-meRx0v03yCE0RzC3-0JaYoE81UIB8v05v8iZm0NonH44g0O4oGQYy47roRbD8z46eeHtRCgvJIDKTv40-OY6r22m1u20c2ou1-u9W870W822W07u28Y90010oQeB491bLsntaG00CvsO6hoaw0laYoFm2mNe31lW3OA0ek67gf-vxgQqhuB84C2Y306O4OJ-1OWI0P0I0U0IWO0Oy18B0k0Jv8iZe1JaYoEe5EIB8z0KzgBd4TWKqDdDymNe50ZG5T3PpVC5s1N1YlRieu-y_6Fma1Rp0PWMqAFVymMW5j2FdVK5oHQ15wWN2Hm0BO8b367YiW7W-GBSQrMGKERcBj3kceDYahmCW7aeNkqmHsnWuxE1OuXDgZKGQwHT1o0M9sWX9J3UvBLTNm1Ni52WXu4pG7UHe4vz40Quo-LYOZm1~1\n",
      "https://yabs.yandex.ru/count/WOqejI_zO3G17Gm0j19S8bgMTO7rAGK0D08GWX0neg2kNW00000useqKG0H846344d3AhPxZdAamc06UuvofCBW1ogq2s07eteGKy0A-meRx0v03yCE0RzC3-0JaYoE81UIB8v05v8iZm0NonH44g0O4oGQYy47roRbD8z46eeHtRCgvJIDKTv40-OY6r22m1u20c2ou1-u9W870W822W07u28Y90010oQeB491bLsntaG00CvsO6hoaw0laYoFm2mNe31lW3OA0ek67gf-vxgQqhuB84C2Y306O4OJ-1OWI0P0I0U0IWO0Oy18B0k0Jv8iZe1JaYoEe5EIB8z0KzgBd4TWKqDdDymNe50ZG5T3PpVC5s1N1YlRieu-y_6Fma1Rp0PWMqAFVymMW5j2FdVK5oHQ15wWN2Hm0BO8b367YiW7W-GBSQrMGKERcBj3kceDYahmCW7aeNkqmHsnWuxE1OuXDgZKGQwHT1o0M9sWX9J3UvBLTNm1Ni52WXu4pG7UHe4vz40Quo-LYOZm1~1\n",
      "//yandex.ru/video\n",
      "//yandex.ru/images/\n",
      "https://yandex.ru/news/\n",
      "https://yandex.ru/maps\n",
      "https://market.yandex.ru/?clid=505&utm_source=face_abovesearch&utm_campaign=face_abovesearch\n",
      "https://translate.yandex.ru/\n",
      "https://music.yandex.ru/\n",
      "https://kinopoisk.ru/\n",
      "https://auto.ru/?from=tab-yandex-glavnaya&utm_source=tab-yandex-glavnaya&utm_content=web\n",
      "https://realty.yandex.ru/?from=morda_tab&utm_source=morda_tab&utm_content=web\n",
      "https://yandex.ru/q?utm_source=yandex&utm_medium=morda_tab\n",
      "https://afisha.yandex.ru/\n",
      "https://mail.yandex.ru/\n",
      "https://money.yandex.ru/\n",
      "https://yandex.ru/maps/probki\n",
      "https://rabota.yandex.ru/\n",
      "https://rasp.yandex.ru/?utm_source=yamain&utm_medium=popup&utm_campaign=rasp_ru\n",
      "https://tv.yandex.ru/\n",
      "https://yandex.ru/pogoda?utm_source=home&utm_medium=web&utm_campaign=tableau\n",
      "https://taxi.yandex.ru\n",
      "https://avia.yandex.ru/?utm_source=yamain&utm_medium=popup&utm_campaign=avia_ru\n",
      "https://disk.yandex.ru/\n",
      "https://travel.yandex.ru/?utm_source=yamain&utm_medium=popup&utm_campaign=travel_ru\n",
      "https://radio.yandex.ru/\n",
      "https://yandex.ru/collections/\n",
      "https://yandex.ru/bus?utm_source=yamain&utm_medium=popup\n",
      "https://local.yandex.ru\n",
      "https://eda.yandex/?utm_medium=morda&utm_source=eshche-block&utm_campaign=%5BEDA%5DDT_UA-goal_RU-ALL-ALL_eshche-block\n",
      "https://zen.yandex.ru\n",
      "https://travel.yandex.ru/trains?utm_source=yamain&utm_medium=popup&utm_campaign=trains_ru\n",
      "https://yandex.ru/uslugi?utm_source=yamain&utm_medium=popup\n",
      "https://lavka.yandex/?utm_medium=morda&utm_source=eshche-block&utm_campaign=%5BLVK%5DDT_UA-goal_RU-ALL-ALL_eshche-block\n",
      "https://travel.yandex.ru/hotels/\n",
      "https://yandex.ru/doma\n",
      "https://yandex.ru/all\n",
      "//yandex.ru/search/?text=%D0%BA%D0%BE%D1%80%D0%BE%D0%BD%D0%B0%D0%B2%D0%B8%D1%80%D1%83%D1%81&aoff=1&nl=1\n",
      "https://yandex.ru/\n",
      "https://yabs.yandex.ru/count/WLyejI_zO141hGe0v0zS8bgMWsrvn0K04G8GWX0neg2kNW00000useqKG1H80c3g4N2euuABZQFGCPYu0QZZWeiEm048s07slOC5w06g0l02liA6-mEr0lW4zRaOY0NrkHYG1VMv60Ie1WJ91gBmGVN9kKqZqGQYX7TiohbD8rHtaG3vY8RK8B07W82OBBW7-Z60W0e1mGeA06gr88EaFydx_0IGPLTiTv4003ETc1gyfEWBzRaOy0i5w0mRu0s2WABXXwgVkUwc-zx10Wm1y18B0k0JzRaOe1JrkHYe5FMv6EWK2DWLmOhsxAEFlFnZy90MN9WMqAFVymMW5j2FdVK5oHQ15vWN6QWN2Hm0BOAZ30cwRFbslWMkq1GaOsmu0EW3ZHLkFSiyDm247bxju4Pi4EEpWJk8JQer46lBdQxuJYO3mJ8AiakrNLy0Ls1Ge8VnCa1_i3-TWbN6mzKw6te0~1\n",
      "https://yabs.yandex.ru/count/WLyejI_zO141hGe0v0zS8bgMWsrvn0K04G8GWX0neg2kNW00000useqKG1H80c3g4N2euuABZQFGCPYu0QZZWeiEm048s07slOC5w06g0l02liA6-mEr0lW4zRaOY0NrkHYG1VMv60Ie1WJ91gBmGVN9kKqZqGQYX7TiohbD8rHtaG3vY8RK8B07W82OBBW7-Z60W0e1mGeA06gr88EaFydx_0IGPLTiTv4003ETc1gyfEWBzRaOy0i5w0mRu0s2WABXXwgVkUwc-zx10Wm1y18B0k0JzRaOe1JrkHYe5FMv6EWK2DWLmOhsxAEFlFnZy90MN9WMqAFVymMW5j2FdVK5oHQ15vWN6QWN2Hm0BOAZ30cwRFbslWMkq1GaOsmu0EW3ZHLkFSiyDm247bxju4Pi4EEpWJk8JQer46lBdQxuJYO3mJ8AiakrNLy0Ls1Ge8VnCa1_i3-TWbN6mzKw6te0~1\n",
      "https://awaps.yandex.net/1/c1/tx21lszVAoU5Fo8Pyi8d5u3BKgskaqIMIErLyWAzx73gTJ3OpkTdzaHnRp4Y+_tUIlJWLCojDDWnh2WA+PDWQxT517AlQ43GMFtxIJ41UchAPhpWwkWIYY+3PNR_t7JZueXa8n1bbEZR+kvt7rVH-ifnW0CKg2vN-QOtofrFJYTftBA8F7qFbt764_tSgVkvbSE7JvMAn6BFRQOBAgwyEYVqFveTZuTy2il2Ijp-zmrp5U6kpQMX3WD_tKBPWtiLi-P47w2LpwsBdleeX-i4267eWI9y4pg93HDBujtIXCgWVpFxJAt-h_trllFMDk8o+EyVH-RTdT6QVnWn2e9khQ8Vn1THBzCD8vxSAlN50TbvfvW85g5_SfKY0VaAx9yPE2tATpCUSKOvY_A_.htm\n",
      "https://yandex.ru/pogoda/saint-petersburg\n"
     ]
    },
    {
     "data": {
      "text/plain": [
       "True"
      ]
     },
     "execution_count": 3,
     "metadata": {},
     "output_type": "execute_result"
    }
   ],
   "source": [
    "def url_tester():\n",
    "    A = input('Введите ссылку первого документа: ')\n",
    "    B = input('Введите ссылку второго документа: ')\n",
    "    \n",
    "    A_url = urlopen(A).read().decode('utf-8') #качаем первую страничку\n",
    "    A_html = str(A_url) # Делаем из неё строку\n",
    "    A_soup = BeautifulSoup(A_html, 'html.parser') #варим суп\n",
    "    A_origin_url = re.search(r'(.+[.]ru|.+[.]com)', A).group() #вытаскиваем оригинальный url сайта для дальнейшей подставки\n",
    "\n",
    "    B_url = urlopen(B).read().decode('utf-8')\n",
    "    B_html = str(A_url)\n",
    "    B_soup = BeautifulSoup(B_html, 'html.parser')\n",
    "\n",
    "\n",
    "    A_refs = []\n",
    "    for refs in A_soup.find_all('a', href=True): #проходимся по всем ссылкам первой странички\n",
    "        url = refs['href']\n",
    "        print(url)\n",
    "        if url.startswith('/'): #если ссылка относительная \n",
    "            url = A_origin_url + url #то соединяем её с оригинальным url сайта\n",
    "        if url.startswith(A_origin_url): #проверка на то что ссылка не ввёдет на другой сайт\n",
    "            if url == B:\n",
    "                return True\n",
    "            A_refs.append(url)\n",
    "    \n",
    "    \n",
    "    print(A_refs)\n",
    "\n",
    "\n",
    "    for refs in A_refs: #проходимся по ссылкам первой страницы и варим из них супы\n",
    "        C_url = urlopen(refs).read().decode('utf-8')\n",
    "        C_html = str(C_url)\n",
    "        C_soup = BeautifulSoup(C_html, 'html.parser')\n",
    "        \n",
    "        for refs in C_soup.find_all('a', href=True):\n",
    "            url = refs['href']\n",
    "            if url.startswith('/'):\n",
    "                url = A_origin_url + url\n",
    "            if url == B:\n",
    "                return True\n",
    "    \n",
    "    return False\n",
    "\n",
    "url_tester()"
   ]
  },
  {
   "cell_type": "markdown",
   "metadata": {},
   "source": [
    "Вашей программе на вход подается ссылка на HTML файл.\n",
    "Вам необходимо скачать этот файл, затем найти в нем все ссылки вида <a ... href=\"...\" ... > и вывести список сайтов, на которые есть ссылка."
   ]
  },
  {
   "cell_type": "code",
   "execution_count": 6,
   "metadata": {},
   "outputs": [
    {
     "name": "stdout",
     "output_type": "stream",
     "text": [
      "Введите ссылку на HTML-файл: https://www.plerdy.com/ru/blog/top-50-web-design-inspiration-websites/\n",
      "www.plerdy.com\n",
      "{'ux.stackexchange.com', 'www.uplabs.com', 'www.calltoidea.com', 'www.facebook.com', 'www.thebestdesigns.com', 'www.templatemonster.com', 'www.mockplus.com', 'medium.com', 'alistapart.com', 'www.plerdy.com', 'dribbble.com', 'www.pinterest.com', 'www.uxdesignedge.com', 'www.creativebloq.com', 'www.pentagram.com', 'a.plerdy.com', 'play.google.com', 'www.flickr.com', 'book.com', 'twitter.com', 'uimovement.com', 'itunes.apple.com', 'abduzeedo.com', 'www.youtube.com', 'thegreatdiscontent.com', 'www.linkedin.com', 'uxmag.com', 'www.siteinspire.com', 'www.awwwards.com', 'onepagelove.com', 'collectui.com', 'cssnectar.com', 'pttrns.com', '99designs.com', 'www.smashingmagazine.com'}\n",
      "35\n"
     ]
    }
   ],
   "source": [
    "def url_tester():\n",
    "    A = input('Введите ссылку на HTML-файл: ')\n",
    "   \n",
    "    A_url = urlopen(A).read().decode('utf-8')\n",
    "    A_html = str(A_url)\n",
    "    A_soup = BeautifulSoup(A_html, 'html.parser')\n",
    "    \n",
    "    A_origin_url = re.search(r'([\\w.]+[.]ru|[\\w.]+[.]com)', A).group()\n",
    "    print(A_origin_url)\n",
    "    \n",
    "    A_refs = set()\n",
    "    for refs in A_soup.find_all('a', href=True):\n",
    "        if '../' in refs['href']:\n",
    "            continue \n",
    "        A_origin_url = re.search(r'([\\w.]+[.]ru|[\\w.]+[.]com)', refs['href'])\n",
    "        if A_origin_url:\n",
    "            A_origin_url = A_origin_url.group()\n",
    "            A_refs.add(A_origin_url)\n",
    "    print(A_refs)\n",
    "    print(len(A_refs))\n",
    "url_tester()"
   ]
  },
  {
   "cell_type": "code",
   "execution_count": null,
   "metadata": {},
   "outputs": [],
   "source": [
    "http://pastebin.com/raw/7543p0ns\n",
    "https://www.plerdy.com/ru/blog/top-50-web-design-inspiration-websites/"
   ]
  }
 ],
 "metadata": {
  "kernelspec": {
   "display_name": "Python 3",
   "language": "python",
   "name": "python3"
  }
 },
 "nbformat": 4,
 "nbformat_minor": 2
}
